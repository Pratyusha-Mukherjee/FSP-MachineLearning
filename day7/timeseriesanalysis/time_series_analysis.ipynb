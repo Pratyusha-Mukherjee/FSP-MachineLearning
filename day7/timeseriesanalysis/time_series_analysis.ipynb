{
 "cells": [
  {
   "cell_type": "code",
   "execution_count": 1,
   "id": "d0771703",
   "metadata": {},
   "outputs": [],
   "source": [
    "import pandas as pd\n",
    "import numpy as np\n",
    "import math\n",
    "import matplotlib.pyplot as plt\n",
    "from statsmodels.tsa import stattools"
   ]
  },
  {
   "cell_type": "code",
   "execution_count": 2,
   "id": "d1d9f8d4",
   "metadata": {},
   "outputs": [],
   "source": [
    "df=pd.date_range('2024 jan 16',periods=20,freq='W')"
   ]
  },
  {
   "cell_type": "code",
   "execution_count": 3,
   "id": "6be73209",
   "metadata": {},
   "outputs": [
    {
     "data": {
      "text/plain": [
       "DatetimeIndex(['2024-01-21', '2024-01-28', '2024-02-04', '2024-02-11',\n",
       "               '2024-02-18', '2024-02-25', '2024-03-03', '2024-03-10',\n",
       "               '2024-03-17', '2024-03-24', '2024-03-31', '2024-04-07',\n",
       "               '2024-04-14', '2024-04-21', '2024-04-28', '2024-05-05',\n",
       "               '2024-05-12', '2024-05-19', '2024-05-26', '2024-06-02'],\n",
       "              dtype='datetime64[ns]', freq='W-SUN')"
      ]
     },
     "execution_count": 3,
     "metadata": {},
     "output_type": "execute_result"
    }
   ],
   "source": [
    "df"
   ]
  },
  {
   "cell_type": "code",
   "execution_count": 4,
   "id": "2d66ab90",
   "metadata": {},
   "outputs": [],
   "source": [
    "df=pd.date_range('2024 jan 16',periods=20,freq='D')"
   ]
  },
  {
   "cell_type": "code",
   "execution_count": 5,
   "id": "6c1b9367",
   "metadata": {},
   "outputs": [
    {
     "data": {
      "text/plain": [
       "DatetimeIndex(['2024-01-16', '2024-01-17', '2024-01-18', '2024-01-19',\n",
       "               '2024-01-20', '2024-01-21', '2024-01-22', '2024-01-23',\n",
       "               '2024-01-24', '2024-01-25', '2024-01-26', '2024-01-27',\n",
       "               '2024-01-28', '2024-01-29', '2024-01-30', '2024-01-31',\n",
       "               '2024-02-01', '2024-02-02', '2024-02-03', '2024-02-04'],\n",
       "              dtype='datetime64[ns]', freq='D')"
      ]
     },
     "execution_count": 5,
     "metadata": {},
     "output_type": "execute_result"
    }
   ],
   "source": [
    "df"
   ]
  },
  {
   "cell_type": "code",
   "execution_count": 6,
   "id": "50fdbf00",
   "metadata": {},
   "outputs": [],
   "source": [
    "bd=pd.date_range('2024 jan 16',periods=20,freq='B')"
   ]
  },
  {
   "cell_type": "code",
   "execution_count": 7,
   "id": "eb47c1e0",
   "metadata": {},
   "outputs": [
    {
     "data": {
      "text/plain": [
       "DatetimeIndex(['2024-01-16', '2024-01-17', '2024-01-18', '2024-01-19',\n",
       "               '2024-01-22', '2024-01-23', '2024-01-24', '2024-01-25',\n",
       "               '2024-01-26', '2024-01-29', '2024-01-30', '2024-01-31',\n",
       "               '2024-02-01', '2024-02-02', '2024-02-05', '2024-02-06',\n",
       "               '2024-02-07', '2024-02-08', '2024-02-09', '2024-02-12'],\n",
       "              dtype='datetime64[ns]', freq='B')"
      ]
     },
     "execution_count": 7,
     "metadata": {},
     "output_type": "execute_result"
    }
   ],
   "source": [
    "bd"
   ]
  },
  {
   "cell_type": "code",
   "execution_count": 8,
   "id": "b42b95ce",
   "metadata": {},
   "outputs": [
    {
     "name": "stderr",
     "output_type": "stream",
     "text": [
      "C:\\Users\\hp\\AppData\\Local\\Temp\\ipykernel_29532\\1443905432.py:1: FutureWarning: 'H' is deprecated and will be removed in a future version, please use 'h' instead.\n",
      "  bd=pd.date_range('2024 jan 16',periods=20,freq='H')\n"
     ]
    }
   ],
   "source": [
    "bd=pd.date_range('2024 jan 16',periods=20,freq='H')"
   ]
  },
  {
   "cell_type": "code",
   "execution_count": 9,
   "id": "1129959d",
   "metadata": {},
   "outputs": [
    {
     "data": {
      "text/plain": [
       "DatetimeIndex(['2024-01-16 00:00:00', '2024-01-16 01:00:00',\n",
       "               '2024-01-16 02:00:00', '2024-01-16 03:00:00',\n",
       "               '2024-01-16 04:00:00', '2024-01-16 05:00:00',\n",
       "               '2024-01-16 06:00:00', '2024-01-16 07:00:00',\n",
       "               '2024-01-16 08:00:00', '2024-01-16 09:00:00',\n",
       "               '2024-01-16 10:00:00', '2024-01-16 11:00:00',\n",
       "               '2024-01-16 12:00:00', '2024-01-16 13:00:00',\n",
       "               '2024-01-16 14:00:00', '2024-01-16 15:00:00',\n",
       "               '2024-01-16 16:00:00', '2024-01-16 17:00:00',\n",
       "               '2024-01-16 18:00:00', '2024-01-16 19:00:00'],\n",
       "              dtype='datetime64[ns]', freq='h')"
      ]
     },
     "execution_count": 9,
     "metadata": {},
     "output_type": "execute_result"
    }
   ],
   "source": [
    "bd"
   ]
  },
  {
   "cell_type": "code",
   "execution_count": 10,
   "id": "762a112b",
   "metadata": {},
   "outputs": [],
   "source": [
    "df=pd.date_range('2024 jan 16',periods=10,freq='D',tz='America/New_york')"
   ]
  },
  {
   "cell_type": "code",
   "execution_count": 11,
   "id": "280e5e54",
   "metadata": {},
   "outputs": [
    {
     "data": {
      "text/plain": [
       "DatetimeIndex(['2024-01-16 00:00:00-05:00', '2024-01-17 00:00:00-05:00',\n",
       "               '2024-01-18 00:00:00-05:00', '2024-01-19 00:00:00-05:00',\n",
       "               '2024-01-20 00:00:00-05:00', '2024-01-21 00:00:00-05:00',\n",
       "               '2024-01-22 00:00:00-05:00', '2024-01-23 00:00:00-05:00',\n",
       "               '2024-01-24 00:00:00-05:00', '2024-01-25 00:00:00-05:00'],\n",
       "              dtype='datetime64[ns, America/New_York]', freq='D')"
      ]
     },
     "execution_count": 11,
     "metadata": {},
     "output_type": "execute_result"
    }
   ],
   "source": [
    "df"
   ]
  }
 ],
 "metadata": {
  "kernelspec": {
   "display_name": "Python 3 (ipykernel)",
   "language": "python",
   "name": "python3"
  },
  "language_info": {
   "codemirror_mode": {
    "name": "ipython",
    "version": 3
   },
   "file_extension": ".py",
   "mimetype": "text/x-python",
   "name": "python",
   "nbconvert_exporter": "python",
   "pygments_lexer": "ipython3",
   "version": "3.11.4"
  }
 },
 "nbformat": 4,
 "nbformat_minor": 5
}
