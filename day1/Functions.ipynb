{
 "cells": [
  {
   "cell_type": "markdown",
   "metadata": {},
   "source": [
    "Type of Functions\n",
    "1. Function with no Arguement\n",
    "2. Function with required Argument\n",
    "3. Function with variable length Arguement\n",
    "4. Function with keyword length Argument\n",
    "5. Function with default Argument"
   ]
  },
  {
   "cell_type": "code",
   "execution_count": 2,
   "metadata": {},
   "outputs": [
    {
     "name": "stdout",
     "output_type": "stream",
     "text": [
      "['False', 'None', 'True', 'and', 'as', 'assert', 'async', 'await', 'break', 'class', 'continue', 'def', 'del', 'elif', 'else', 'except', 'finally', 'for', 'from', 'global', 'if', 'import', 'in', 'is', 'lambda', 'nonlocal', 'not', 'or', 'pass', 'raise', 'return', 'try', 'while', 'with', 'yield']\n",
      "35\n"
     ]
    }
   ],
   "source": [
    "import keyword\n",
    "length = len(list(keyword.kwlist))\n",
    "print(list(keyword.kwlist))\n",
    "print(length)"
   ]
  },
  {
   "cell_type": "code",
   "execution_count": 5,
   "metadata": {},
   "outputs": [],
   "source": [
    "def plain_passage():\n",
    "    \"\"\"this is used for printing welcome message\n",
    "    \"\"\"\n",
    "    pass"
   ]
  },
  {
   "cell_type": "code",
   "execution_count": 8,
   "metadata": {},
   "outputs": [
    {
     "data": {
      "text/plain": [
       "'this is used for printing welcome message\\n    '"
      ]
     },
     "execution_count": 8,
     "metadata": {},
     "output_type": "execute_result"
    }
   ],
   "source": [
    "plain_passage.__doc__"
   ]
  },
  {
   "cell_type": "code",
   "execution_count": 18,
   "metadata": {},
   "outputs": [],
   "source": [
    "def add(a,b):\n",
    "   print(\"sum of A {0} and B {1} is {2}\".format(a,b,a+b))"
   ]
  },
  {
   "cell_type": "code",
   "execution_count": 19,
   "metadata": {},
   "outputs": [
    {
     "name": "stdout",
     "output_type": "stream",
     "text": [
      "sum of A 3 and B 5 is 8\n"
     ]
    }
   ],
   "source": [
    "add(3,5)"
   ]
  },
  {
   "cell_type": "markdown",
   "metadata": {},
   "source": [
    "Variable length\n"
   ]
  },
  {
   "cell_type": "code",
   "execution_count": 31,
   "metadata": {},
   "outputs": [],
   "source": [
    "# Add = (10,20,30,40,50,60,70,80,90)\n",
    "def add(farg,*args):\n",
    "    print(\"The formal arguement is:-\",farg)\n",
    "    s = 0\n",
    "    for i in args:\n",
    "        s = s+i\n",
    "    print(\"Sum of all number is:=\",(farg*s))  \n",
    "    return \n",
    "\n"
   ]
  },
  {
   "cell_type": "code",
   "execution_count": 32,
   "metadata": {},
   "outputs": [
    {
     "name": "stdout",
     "output_type": "stream",
     "text": [
      "The formal arguement is:- 10\n",
      "Sum of all number is:= 4400\n"
     ]
    }
   ],
   "source": [
    "add(10,20,30,40,50,60,70,80,90)"
   ]
  },
  {
   "cell_type": "code",
   "execution_count": 36,
   "metadata": {},
   "outputs": [
    {
     "data": {
      "text/plain": [
       "{'b': 2, 'a': 1}"
      ]
     },
     "execution_count": 36,
     "metadata": {},
     "output_type": "execute_result"
    }
   ],
   "source": [
    "def elements(args, **kwargs):\n",
    "    for key in kwargs:\n",
    "        print(key, kwargs[key])\n",
    "    return args\n",
    "elements({'b':2, 'a':1})"
   ]
  },
  {
   "cell_type": "code",
   "execution_count": 38,
   "metadata": {},
   "outputs": [],
   "source": [
    "def even_odd(n):\n",
    "    if n % 2 == 0:\n",
    "        return \"even\"\n",
    "    else:\n",
    "        return \"odd\""
   ]
  },
  {
   "cell_type": "code",
   "execution_count": 39,
   "metadata": {},
   "outputs": [
    {
     "name": "stdout",
     "output_type": "stream",
     "text": [
      "['odd', 'odd', 'odd', 'even', 'even', 'even', 'even', 'odd', 'even', 'odd']\n"
     ]
    }
   ],
   "source": [
    "l = [15,3,7,2,4,16,18,23,40,35]\n",
    "print(list(map(even_odd,l)))"
   ]
  },
  {
   "cell_type": "markdown",
   "metadata": {},
   "source": [
    "creates a list to generate 5 integer values randomly and then use funcions even_odd to check whether a number is even or odd"
   ]
  },
  {
   "cell_type": "code",
   "execution_count": 40,
   "metadata": {},
   "outputs": [
    {
     "name": "stdout",
     "output_type": "stream",
     "text": [
      "[61, 17, 60, 25, 16]\n",
      "['odd', 'odd', 'even', 'odd', 'even']\n"
     ]
    }
   ],
   "source": [
    "import random\n",
    "\n",
    "def even_odd(x):\n",
    "    if x % 2 == 0:\n",
    "        return \"even\"\n",
    "    else:\n",
    "        return \"odd\"\n",
    "    \n",
    "l = []\n",
    "for i in range(5):\n",
    "    l.append(random.randint(1,100))\n",
    "\n",
    "print(l)\n",
    "print(list(map(even_odd, l)))"
   ]
  }
 ],
 "metadata": {
  "kernelspec": {
   "display_name": "Python 3",
   "language": "python",
   "name": "python3"
  },
  "language_info": {
   "codemirror_mode": {
    "name": "ipython",
    "version": 3
   },
   "file_extension": ".py",
   "mimetype": "text/x-python",
   "name": "python",
   "nbconvert_exporter": "python",
   "pygments_lexer": "ipython3",
   "version": "3.11.4"
  }
 },
 "nbformat": 4,
 "nbformat_minor": 2
}
