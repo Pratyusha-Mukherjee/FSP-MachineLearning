{
 "cells": [
  {
   "cell_type": "code",
   "execution_count": 6,
   "metadata": {},
   "outputs": [
    {
     "name": "stdout",
     "output_type": "stream",
     "text": [
      "Generated password: sadtiger76.\n",
      "Password saved!\n"
     ]
    }
   ],
   "source": [
    "import random\n",
    "import string\n",
    "\n",
    "\n",
    "# adjective list\n",
    "adjectives = [\"happy\", \"sad\", \"angry\", \"excited\", \"bored\"]\n",
    "# noun list\n",
    "nouns = [\"dog\", \"cat\", \"mouse\", \"elephant\", \"tiger\"]\n",
    "\n",
    "def generate_password():\n",
    "    adjective = random.choice(adjectives)\n",
    "    noun = random.choice(nouns)\n",
    "    char = random.choice(string.punctuation)\n",
    "    number = random.randrange(0, 100)\n",
    "    return adjective + noun + str(number) + char\n",
    "\n",
    "def is_satisfied():\n",
    "    \n",
    "    while True:\n",
    "        response = input(\"Are you satisfied with this password? (yes/no): \").lower()\n",
    "        if response in ['yes', 'no']:\n",
    "            return response == 'yes'\n",
    "        else:\n",
    "            print(\"Please enter 'yes' or 'no'.\")\n",
    "\n",
    "def main():\n",
    "    while True:\n",
    "        password = generate_password()\n",
    "        print(f\"Generated password: {password}\")\n",
    "        \n",
    "        if is_satisfied():\n",
    "            print(\"Password saved!\")\n",
    "            break\n",
    "        else:\n",
    "            print(\"Generating a new password...\")\n",
    "\n",
    "if __name__ == \"__main__\":\n",
    "    main()\n",
    "\n",
    "\n"
   ]
  }
 ],
 "metadata": {
  "kernelspec": {
   "display_name": "Python 3",
   "language": "python",
   "name": "python3"
  },
  "language_info": {
   "codemirror_mode": {
    "name": "ipython",
    "version": 3
   },
   "file_extension": ".py",
   "mimetype": "text/x-python",
   "name": "python",
   "nbconvert_exporter": "python",
   "pygments_lexer": "ipython3",
   "version": "3.11.4"
  }
 },
 "nbformat": 4,
 "nbformat_minor": 2
}
