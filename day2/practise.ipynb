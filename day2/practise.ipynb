{
 "cells": [
  {
   "cell_type": "markdown",
   "metadata": {},
   "source": [
    "Nine lives \n",
    "in this nerve shredding game  you have to guess thhe secret word one letter at a time . if you guess is wrong you lose a life choose your letter carefully beacause you only have nine lives and it's game over\n",
    "How it will work?first you'll create a two list one to store the secret words and one to store the due which is made up of questions marks.then using random module you'll make a random selection from the list secret words.then you'll build a loop to check player's guesses and also create a function to update  the due as the word is slowly revealed"
   ]
  },
  {
   "cell_type": "code",
   "execution_count": 4,
   "metadata": {},
   "outputs": [
    {
     "name": "stdout",
     "output_type": "stream",
     "text": [
      "Dog\n",
      "Correct letters in correct positions: ? o ?\n",
      "wrong, you have 8 guesses left\n",
      "you win!\n"
     ]
    }
   ],
   "source": [
    "import random\n",
    "\n",
    "live = 9\n",
    "random_words = ['House', 'Tree', 'Dog', 'Cat', 'Road']\n",
    "secret_word = random.choice(random_words)\n",
    "\n",
    "print(secret_word)  # You might want to remove this line in an actual game.\n",
    "\n",
    "guesses = 0\n",
    "\n",
    "while guesses < live:\n",
    "    guess = input('guess a word: ')\n",
    "    \n",
    "    if guess == secret_word:\n",
    "        print('you win!')\n",
    "        break\n",
    "    else:\n",
    "        correct_positions = []\n",
    "        for i in range(len(secret_word)):\n",
    "            if i < len(guess) and guess[i] == secret_word[i]:\n",
    "                correct_positions.append(guess[i])\n",
    "            else:\n",
    "                correct_positions.append('?')\n",
    "        \n",
    "        print(f\"Correct letters in correct positions: {' '.join(correct_positions)}\")\n",
    "        guesses += 1\n",
    "        print('wrong, you have {} guesses left'.format(live - guesses))\n",
    "\n",
    "if guesses == live:\n",
    "    print('you lose')"
   ]
  },
  {
   "cell_type": "code",
   "execution_count": null,
   "metadata": {},
   "outputs": [],
   "source": []
  }
 ],
 "metadata": {
  "kernelspec": {
   "display_name": "Python 3",
   "language": "python",
   "name": "python3"
  },
  "language_info": {
   "codemirror_mode": {
    "name": "ipython",
    "version": 3
   },
   "file_extension": ".py",
   "mimetype": "text/x-python",
   "name": "python",
   "nbconvert_exporter": "python",
   "pygments_lexer": "ipython3",
   "version": "3.11.4"
  }
 },
 "nbformat": 4,
 "nbformat_minor": 2
}
