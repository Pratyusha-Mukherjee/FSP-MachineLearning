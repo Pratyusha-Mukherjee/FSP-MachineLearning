{
 "cells": [
  {
   "cell_type": "markdown",
   "metadata": {},
   "source": [
    "Nine lives \n",
    "in this nerve shredding game  you have to guess thhe secret word one letter at a time . if you guess is wrong you lose a life choose your letter carefully beacause you only have nine lives and it's game over\n",
    "How it will work?first you'll create a two list one to store the secret words and one to store the due which is made up of questions marks.then using random module you'll make a random selection from the list secret words.then you'll buikld a loop to check player's guesses and also create a function to update  the due as the word is slowly revealed"
   ]
  },
  {
   "cell_type": "code",
   "execution_count": 1,
   "metadata": {},
   "outputs": [
    {
     "name": "stdout",
     "output_type": "stream",
     "text": [
      "Word to guess:  ? ? ? ?\n",
      "Lives remaining: 9\n",
      "Incorrect guess. You lost a life.\n",
      "Word to guess:  ? ? ? ?\n",
      "Lives remaining: 8\n",
      "Incorrect guess. You lost a life.\n",
      "Word to guess:  ? ? ? ?\n",
      "Lives remaining: 7\n",
      "Word to guess:  ? ? ? ?\n",
      "Lives remaining: 7\n",
      "Incorrect guess. You lost a life.\n",
      "Word to guess:  ? ? ? ?\n",
      "Lives remaining: 6\n",
      "Incorrect guess. You lost a life.\n",
      "Word to guess:  ? ? ? ?\n",
      "Lives remaining: 5\n",
      "Incorrect guess. You lost a life.\n",
      "Word to guess:  ? ? ? ?\n",
      "Lives remaining: 4\n",
      "Incorrect guess. You lost a life.\n",
      "Word to guess:  ? ? ? ?\n",
      "Lives remaining: 3\n",
      "Incorrect guess. You lost a life.\n",
      "Word to guess:  ? ? ? ?\n",
      "Lives remaining: 2\n",
      "Word to guess:  ? ? ? ?\n",
      "Lives remaining: 2\n",
      "Word to guess:  ? ? ? ?\n",
      "Lives remaining: 2\n",
      "Word to guess:  ? ? ? ?\n",
      "Lives remaining: 2\n",
      "Word to guess:  ? ? ? ?\n",
      "Lives remaining: 2\n",
      "Incorrect guess. You lost a life.\n",
      "Word to guess:  ? ? ? ?\n",
      "Lives remaining: 1\n",
      "Incorrect guess. You lost a life.\n",
      "Game over! The word was: Tree\n"
     ]
    }
   ],
   "source": [
    "import random\n",
    "\n",
    "secret_words = ['House', 'Tree', 'Dog', 'Cat', 'Road']\n",
    "\n",
    "\n",
    "secret_word = random.choice(secret_words)\n",
    "\n",
    "clue = ['?' for _ in secret_word]\n",
    "\n",
    "\n",
    "lives = 9\n",
    "\n",
    "\n",
    "def update_clue(secret_word, clue, guess):\n",
    "    for i in range(len(secret_word)):\n",
    "        if secret_word[i] == guess:\n",
    "            clue[i] = guess\n",
    "\n",
    "\n",
    "while lives > 0:\n",
    "    print('Word to guess: ', ' '.join(clue))\n",
    "    print(f'Lives remaining: {lives}')\n",
    "    \n",
    "    \n",
    "    guess = input('Guess a letter: ').lower()\n",
    "\n",
    "    \n",
    "    if guess in secret_word:\n",
    "        update_clue(secret_word, clue, guess)\n",
    "    else:\n",
    "        lives -= 1\n",
    "        print(f'Incorrect guess. You lost a life.')\n",
    "\n",
    "    if '?' not in clue:\n",
    "        print(f'Congratulations! You guessed the word: {secret_word}')\n",
    "        break\n",
    "else:\n",
    "    print(f'Game over! The word was: {secret_word}')\n"
   ]
  }
 ],
 "metadata": {
  "kernelspec": {
   "display_name": "Python 3",
   "language": "python",
   "name": "python3"
  },
  "language_info": {
   "codemirror_mode": {
    "name": "ipython",
    "version": 3
   },
   "file_extension": ".py",
   "mimetype": "text/x-python",
   "name": "python",
   "nbconvert_exporter": "python",
   "pygments_lexer": "ipython3",
   "version": "3.11.4"
  }
 },
 "nbformat": 4,
 "nbformat_minor": 2
}
